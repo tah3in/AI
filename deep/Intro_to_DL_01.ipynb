{
  "cells": [
    {
      "cell_type": "markdown",
      "metadata": {
        "colab_type": "text",
        "id": "view-in-github"
      },
      "source": [
        "<a href=\"https://colab.research.google.com/github/spahlavian/Intro-to-DL-with-fastai/blob/main/Intro_to_DL_01.ipynb\" target=\"_parent\"><img src=\"https://colab.research.google.com/assets/colab-badge.svg\" alt=\"Open In Colab\"/></a>"
      ]
    },
    {
      "cell_type": "code",
      "execution_count": null,
      "metadata": {
        "id": "1ihMhi17JjR6"
      },
      "outputs": [],
      "source": [
        "\"\"\"\n",
        "~~~~~~~~~~~~~~~~~~~~~~~~~~~~~~~~~~~~~~~~~~~~~~~~~~~~~~~~~~~~~\n",
        "~~~~~~~ Practical Deep Learning tutorial -- Episode 1 ~~~~~~~\n",
        "~~~~~~~~~~~~~~~~~~~~~~~~~~~~~~~~~~~~~~~~~~~~~~~~~~~~~~~~~~~~~\n",
        "\n",
        "The example used in this notebook was adopted from the following book:\n",
        "Howard, Jeremy, and Sylvain Gugger. Deep Learning for \n",
        "Coders with fastai and PyTorch. O'Reilly Media, 2020.\n",
        "\n",
        "No licensing is required to use this code, but I will\n",
        "appreciate  if you reference Rational Machines\n",
        "IG page and/or YT channel:\n",
        "@rational_machines\n",
        "bit.ly/3rU7nKY\n",
        "\n",
        "-- Written by: Soroush Pahlavian - 2021\n",
        "\"\"\""
      ]
    },
    {
      "cell_type": "markdown",
      "metadata": {
        "id": "GlEUrTU-qlBP"
      },
      "source": [
        "Here are the libraries we need to run fastai. Let's install them using *pip* command :)\n",
        "\n"
      ]
    },
    {
      "cell_type": "code",
      "execution_count": 1,
      "metadata": {
        "id": "bp3gVvgKqk2O"
      },
      "outputs": [
        {
          "name": "stderr",
          "output_type": "stream",
          "text": [
            "c:\\Users\\mOsTaFa\\AppData\\Local\\Programs\\Python\\Python310\\lib\\site-packages\\torchvision\\models\\detection\\anchor_utils.py:63: UserWarning: Failed to initialize NumPy: module compiled against API version 0x10 but this version of numpy is 0xf . Check the section C-API incompatibility at the Troubleshooting ImportError section at https://numpy.org/devdocs/user/troubleshooting-importerror.html#c-api-incompatibility for indications on how to solve this problem . (Triggered internally at ..\\torch\\csrc\\utils\\tensor_numpy.cpp:84.)\n",
            "  device: torch.device = torch.device(\"cpu\"),\n"
          ]
        }
      ],
      "source": [
        "# !pip install -Uqq fastbook\n",
        "import fastbook\n",
        "from fastbook import *"
      ]
    },
    {
      "cell_type": "markdown",
      "metadata": {
        "id": "4fEYy85I1xZT"
      },
      "source": [
        "Let's make a model to classify pet (cat/dog) images:\n",
        "\n"
      ]
    },
    {
      "cell_type": "code",
      "execution_count": null,
      "metadata": {
        "id": "4xcFhQJY2yGJ"
      },
      "outputs": [],
      "source": [
        "from fastai.vision.all import *\n",
        "\n",
        "dest = '/content/DataML'\n",
        "path = untar_data (URLs.PETS, data=dest)/'images' \n",
        "def is_cat(x): return x[0].isupper() \n",
        "\n",
        "dls = ImageDataLoaders.from_name_func(\n",
        "    path=path, fnames=get_image_files(path),        \n",
        "    valid_pct=0.2, seed=42,\n",
        "    label_func=is_cat, item_tfms=Resize(224)\n",
        ")"
      ]
    },
    {
      "cell_type": "code",
      "execution_count": null,
      "metadata": {
        "id": "HPuB1VH9ZU43"
      },
      "outputs": [],
      "source": [
        "learn = cnn_learner(dls, resnet34, metrics=error_rate)\n",
        "learn.fine_tune(1)"
      ]
    },
    {
      "cell_type": "markdown",
      "metadata": {
        "id": "Ifw0NeyHDGN9"
      },
      "source": [
        "Now, let's check the accuracy on our own photos:"
      ]
    },
    {
      "cell_type": "code",
      "execution_count": null,
      "metadata": {
        "id": "75nFrMR01yNj"
      },
      "outputs": [],
      "source": [
        "uploader = widgets.FileUpload()\n",
        "uploader"
      ]
    },
    {
      "cell_type": "code",
      "execution_count": null,
      "metadata": {
        "id": "mXcRVDE_2Eds"
      },
      "outputs": [],
      "source": [
        "img = PILImage.create(uploader.data[0])\n",
        "pred,_,_ = learn.predict(img)\n",
        "if pred == 'True': \n",
        "    print(f'Prediction: Cat')\n",
        "else: \n",
        "    print(f'Prediction: Dog')"
      ]
    }
  ],
  "metadata": {
    "accelerator": "GPU",
    "colab": {
      "collapsed_sections": [],
      "include_colab_link": true,
      "name": "Intro_to_DL_01.ipynb",
      "provenance": []
    },
    "kernelspec": {
      "display_name": "Python 3",
      "name": "python3"
    },
    "language_info": {
      "codemirror_mode": {
        "name": "ipython",
        "version": 3
      },
      "file_extension": ".py",
      "mimetype": "text/x-python",
      "name": "python",
      "nbconvert_exporter": "python",
      "pygments_lexer": "ipython3",
      "version": "3.10.6"
    }
  },
  "nbformat": 4,
  "nbformat_minor": 0
}
